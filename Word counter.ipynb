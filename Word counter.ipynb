{
 "cells": [
  {
   "cell_type": "code",
   "execution_count": 3,
   "id": "1cb1aac7",
   "metadata": {},
   "outputs": [
    {
     "name": "stdout",
     "output_type": "stream",
     "text": [
      "Enter a sentence or paragraph (or leave blank to exit): The Word Counter project is designed to strengthen your understanding and application of Python programming concepts. The task involves creating a simple program that counts the number of words in a given sentence or paragraph.\n",
      "\n",
      "The text contains 35 words.\n"
     ]
    }
   ],
   "source": [
    "def count_words(text):\n",
    "  \n",
    "  #This function counts the number of words in a given text string.\n",
    "  \n",
    "  # Split the text into a list of words, removing punctuation and whitespace.\n",
    "    \n",
    "  words = text.lower().split()  # Convert to lowercase and split on spaces.\n",
    "  # Handle empty input gracefully.\n",
    "  if not words:\n",
    "    return 0\n",
    "\n",
    "  # Count the number of words and return the result.\n",
    "  return len(words)\n",
    "\n",
    "def main():\n",
    "  \"\"\"\n",
    "  The main function prompts the user for input, calls the word counting function, and displays the result.\n",
    "  \"\"\"\n",
    "\n",
    "  # Prompt the user for input and handle empty lines.\n",
    "  while True:\n",
    "    text = input(\"Enter a sentence or paragraph (or leave blank to exit): \")\n",
    "    if text:\n",
    "      break\n",
    "    else:\n",
    "      print(\"Please enter some text.\")\n",
    "\n",
    "  # Count the words and print the result.\n",
    "  word_count = count_words(text)\n",
    "  print()\n",
    "  print(f\"The text contains {word_count} words.\")\n",
    "\n",
    "if __name__ == \"__main__\":\n",
    "  main()\n"
   ]
  },
  {
   "cell_type": "code",
   "execution_count": null,
   "id": "9eba732f",
   "metadata": {},
   "outputs": [],
   "source": []
  }
 ],
 "metadata": {
  "kernelspec": {
   "display_name": "Python 3 (ipykernel)",
   "language": "python",
   "name": "python3"
  },
  "language_info": {
   "codemirror_mode": {
    "name": "ipython",
    "version": 3
   },
   "file_extension": ".py",
   "mimetype": "text/x-python",
   "name": "python",
   "nbconvert_exporter": "python",
   "pygments_lexer": "ipython3",
   "version": "3.10.9"
  }
 },
 "nbformat": 4,
 "nbformat_minor": 5
}
